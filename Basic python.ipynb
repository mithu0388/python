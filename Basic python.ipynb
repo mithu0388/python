{
 "cells": [
  {
   "cell_type": "markdown",
   "id": "77e5accb",
   "metadata": {},
   "source": [
    "## write a program to print your self introduction"
   ]
  },
  {
   "cell_type": "markdown",
   "id": "81a42efa",
   "metadata": {},
   "source": []
  },
  {
   "cell_type": "code",
   "execution_count": 11,
   "id": "78eb3d20",
   "metadata": {},
   "outputs": [
    {
     "name": "stdout",
     "output_type": "stream",
     "text": [
      "My name is MTHUN MOHAN.I am from Kerala.I am 22 years old.I have completed my bachelors degree in physics from Mahatma gandhi university. My hobbies are playing cricket,workingout and watching movies and series.\n"
     ]
    }
   ],
   "source": [
    "Indroduction=\"My name is MTHUN MOHAN.I am from Kerala.I am 22 years old.I have completed my bachelors degree in physics from Mahatma gandhi university. My hobbies are playing cricket,workingout and watching movies and series.\"\n",
    "print(Indroduction)"
   ]
  },
  {
   "cell_type": "code",
   "execution_count": null,
   "id": "b49b829d",
   "metadata": {},
   "outputs": [],
   "source": []
  },
  {
   "cell_type": "markdown",
   "id": "5a1faed6",
   "metadata": {},
   "source": [
    "## write a program to perform the following operations"
   ]
  },
  {
   "cell_type": "code",
   "execution_count": 13,
   "id": "295db942",
   "metadata": {},
   "outputs": [
    {
     "name": "stdout",
     "output_type": "stream",
     "text": [
      "enter the first number45\n",
      "enter the second number45\n",
      "sum is  90\n"
     ]
    }
   ],
   "source": [
    "#addition\n",
    "num1=int(input(\"enter the first number\"))\n",
    "num2=int(input(\"enter the second number\"))\n",
    "sum=num1+num2\n",
    "print(\"sum is \",sum)"
   ]
  },
  {
   "cell_type": "code",
   "execution_count": 14,
   "id": "67b97afc",
   "metadata": {},
   "outputs": [
    {
     "name": "stdout",
     "output_type": "stream",
     "text": [
      "enter the first number50\n",
      "enter the second number25\n",
      "difference is  25\n"
     ]
    }
   ],
   "source": [
    "#substraction\n",
    "num1=int(input(\"enter the first number\"))\n",
    "num2=int(input(\"enter the second number\"))\n",
    "difference=num1-num2\n",
    "print(\"difference is \",difference)"
   ]
  },
  {
   "cell_type": "code",
   "execution_count": 15,
   "id": "db5a50e0",
   "metadata": {},
   "outputs": [
    {
     "name": "stdout",
     "output_type": "stream",
     "text": [
      "enter the first number3\n",
      "enter the second number20\n",
      "product is  60\n"
     ]
    }
   ],
   "source": [
    "#multiplication\n",
    "num1=int(input(\"enter the first number\"))\n",
    "num2=int(input(\"enter the second number\"))\n",
    "product=num1*num2\n",
    "print(\"product is \",product)"
   ]
  },
  {
   "cell_type": "code",
   "execution_count": 16,
   "id": "2a147376",
   "metadata": {},
   "outputs": [
    {
     "name": "stdout",
     "output_type": "stream",
     "text": [
      "enter the first number40\n",
      "enter the second number5\n",
      "Quotient is  8.0\n"
     ]
    }
   ],
   "source": [
    "#division\n",
    "num1=int(input(\"enter the first number\"))\n",
    "num2=int(input(\"enter the second number\"))\n",
    "div=num1/num2\n",
    "print(\"Quotient is \",div)"
   ]
  },
  {
   "cell_type": "code",
   "execution_count": 17,
   "id": "3b72caf9",
   "metadata": {},
   "outputs": [
    {
     "name": "stdout",
     "output_type": "stream",
     "text": [
      "enter the number4\n",
      "cube is  64\n"
     ]
    }
   ],
   "source": [
    "#exponent\n",
    "num=int(input('enter the number'))\n",
    "cube=num**3\n",
    "print(\"cube is \",cube)\n"
   ]
  },
  {
   "cell_type": "markdown",
   "id": "0019c7e5",
   "metadata": {},
   "source": [
    "## write a program to swap two numbers"
   ]
  },
  {
   "cell_type": "code",
   "execution_count": 20,
   "id": "426bd2db",
   "metadata": {},
   "outputs": [
    {
     "name": "stdout",
     "output_type": "stream",
     "text": [
      "enter the first number: 4\n",
      "enter the second number: 5\n",
      "swapping =  5 4\n"
     ]
    }
   ],
   "source": [
    "#swapping\n",
    "num1=int(input(\"enter the first number: \"))\n",
    "num2=int(input(\"enter the second number: \"))\n",
    "num3=num1\n",
    "num1=num2\n",
    "num2=num3\n",
    "print('swapping = ',num1,num2)\n"
   ]
  },
  {
   "cell_type": "markdown",
   "id": "28f22433",
   "metadata": {},
   "source": [
    "## write a program to swap two numbers with out using the third number"
   ]
  },
  {
   "cell_type": "code",
   "execution_count": 21,
   "id": "1bd68b4e",
   "metadata": {},
   "outputs": [
    {
     "name": "stdout",
     "output_type": "stream",
     "text": [
      "enter the first number: 4\n",
      "enter the second number: 8\n",
      "swapping  8 4\n"
     ]
    }
   ],
   "source": [
    "num1=int(input(\"enter the first number: \"))\n",
    "num2=int(input(\"enter the second number: \"))\n",
    "num1=num1+num2\n",
    "num2=num1-num2\n",
    "num1=num1-num2\n",
    "print('swapping ',num1,num2)"
   ]
  },
  {
   "cell_type": "markdown",
   "id": "88c1d269",
   "metadata": {},
   "source": [
    "## write a program to compute simple interest"
   ]
  },
  {
   "cell_type": "code",
   "execution_count": 22,
   "id": "d2801469",
   "metadata": {},
   "outputs": [
    {
     "name": "stdout",
     "output_type": "stream",
     "text": [
      "enter principal amount 300\n",
      "enter rate 3\n",
      "enter years 3\n",
      "simple interest is  27.0\n"
     ]
    }
   ],
   "source": [
    "principal_amount=int(input('enter principal amount '))\n",
    "rate_of_interest=int(input('enter rate '))\n",
    "no_of_years=int(input(\"enter years \"))\n",
    "print(\"simple interest is \",(principal_amount*rate_of_interest*no_of_years)/100)"
   ]
  },
  {
   "cell_type": "markdown",
   "id": "336154ad",
   "metadata": {},
   "source": [
    "## write a program to find average of five numbers by user input method"
   ]
  },
  {
   "cell_type": "code",
   "execution_count": 23,
   "id": "58402d15",
   "metadata": {},
   "outputs": [
    {
     "name": "stdout",
     "output_type": "stream",
     "text": [
      "enter the first number: 5\n",
      "enter the second number: 5\n",
      "enter the third number: 5\n",
      "enter the fourth number: 5\n",
      "enter the fifth number: 5\n",
      "average of five number is  5.0\n"
     ]
    }
   ],
   "source": [
    "num1=int(input(\"enter the first number: \"))\n",
    "num2=int(input(\"enter the second number: \"))\n",
    "num3=int(input(\"enter the third number: \"))\n",
    "num4=int(input(\"enter the fourth number: \"))\n",
    "num5=int(input(\"enter the fifth number: \"))\n",
    "print('average of five number is ',(num1+num2+num3+num4+num5)/5)"
   ]
  },
  {
   "cell_type": "markdown",
   "id": "b09d4ab4",
   "metadata": {},
   "source": [
    "## write a program to calculate the areas of the following"
   ]
  },
  {
   "cell_type": "code",
   "execution_count": 24,
   "id": "c57f39fa",
   "metadata": {},
   "outputs": [
    {
     "name": "stdout",
     "output_type": "stream",
     "text": [
      "Lenght= 50\n",
      "breadth= 30\n",
      "Area=  1500\n"
     ]
    }
   ],
   "source": [
    "#Rectangle\n",
    "Length=int(input(\"Lenght= \"))\n",
    "breadth=int(input(\"breadth= \"))\n",
    "print('Area= ',Length*breadth)"
   ]
  },
  {
   "cell_type": "code",
   "execution_count": 25,
   "id": "31800d9e",
   "metadata": {},
   "outputs": [
    {
     "name": "stdout",
     "output_type": "stream",
     "text": [
      "enter the side 5\n",
      "area=  25\n"
     ]
    }
   ],
   "source": [
    "#square\n",
    "side=int(input(\"enter the side \"))\n",
    "print(\"area= \", side*side)"
   ]
  },
  {
   "cell_type": "code",
   "execution_count": 26,
   "id": "2352a446",
   "metadata": {},
   "outputs": [
    {
     "name": "stdout",
     "output_type": "stream",
     "text": [
      "base 4\n",
      "height 6\n",
      "area  12.0\n"
     ]
    }
   ],
   "source": [
    "#triangle\n",
    "Base=int(input('base '))\n",
    "height=int(input('height '))\n",
    "print('area ', 0.5*Base*height)"
   ]
  },
  {
   "cell_type": "code",
   "execution_count": 27,
   "id": "f74abf54",
   "metadata": {},
   "outputs": [
    {
     "name": "stdout",
     "output_type": "stream",
     "text": [
      "radius 4\n",
      "area  50.24\n"
     ]
    }
   ],
   "source": [
    "#circle \n",
    "Radius=int(input('radius '))\n",
    "print('area ', 3.14*Radius**2)"
   ]
  },
  {
   "cell_type": "markdown",
   "id": "802eba7f",
   "metadata": {},
   "source": [
    "## write a program to calulate the discriminant of a quadratic equation"
   ]
  },
  {
   "cell_type": "code",
   "execution_count": 29,
   "id": "b5993a10",
   "metadata": {},
   "outputs": [
    {
     "name": "stdout",
     "output_type": "stream",
     "text": [
      "enter the value of a = 1\n",
      "enter the value of b = 10\n",
      "enter the value of c = 9\n",
      "discriminant=  64.0\n"
     ]
    }
   ],
   "source": [
    "a=float(input(\"enter the value of a = \"))\n",
    "b=float(input('enter the value of b = '))\n",
    "c=float(input('enter the value of c = '))\n",
    "print('discriminant= ', b**2-(4*a*c))\n",
    "        "
   ]
  },
  {
   "cell_type": "markdown",
   "id": "adeb0c87",
   "metadata": {},
   "source": [
    "## write a program to calculate net salary of an employee entered by the user, DA is 5%,HRA is 7% and PF is 3% of the basic salary "
   ]
  },
  {
   "cell_type": "code",
   "execution_count": 31,
   "id": "dfcc7f1b",
   "metadata": {},
   "outputs": [
    {
     "name": "stdout",
     "output_type": "stream",
     "text": [
      "enter your basic salary 700000\n",
      "grosspay  761950.0\n"
     ]
    }
   ],
   "source": [
    "basic_salary=int(input('enter your basic salary '))\n",
    "DA=float(basic_salary*0.05)\n",
    "HRA=float(basic_salary*0.07)\n",
    "PF=float((basic_salary+DA)*0.03)\n",
    "net_pay=float(basic_salary+DA+HRA)\n",
    "grosspay=float(net_pay-PF)\n",
    "print(('grosspay '),grosspay)\n"
   ]
  },
  {
   "cell_type": "markdown",
   "id": "f0a30482",
   "metadata": {},
   "source": [
    "## write a program to calculate power of a number"
   ]
  },
  {
   "cell_type": "code",
   "execution_count": 33,
   "id": "15d2042e",
   "metadata": {},
   "outputs": [
    {
     "name": "stdout",
     "output_type": "stream",
     "text": [
      "enter the number 5\n",
      "power of the number  125\n"
     ]
    }
   ],
   "source": [
    "num=int(input('enter the number '))\n",
    "print('power of the number ', num**3 )"
   ]
  },
  {
   "cell_type": "markdown",
   "id": "07819d61",
   "metadata": {},
   "source": [
    "## write a program to get python version you are using"
   ]
  },
  {
   "cell_type": "code",
   "execution_count": 34,
   "id": "43091b13",
   "metadata": {},
   "outputs": [
    {
     "name": "stdout",
     "output_type": "stream",
     "text": [
      "3.9.13\n"
     ]
    }
   ],
   "source": [
    "from platform import python_version\n",
    "print(python_version())"
   ]
  },
  {
   "cell_type": "code",
   "execution_count": null,
   "id": "6f30287c",
   "metadata": {},
   "outputs": [],
   "source": []
  }
 ],
 "metadata": {
  "kernelspec": {
   "display_name": "Python 3 (ipykernel)",
   "language": "python",
   "name": "python3"
  },
  "language_info": {
   "codemirror_mode": {
    "name": "ipython",
    "version": 3
   },
   "file_extension": ".py",
   "mimetype": "text/x-python",
   "name": "python",
   "nbconvert_exporter": "python",
   "pygments_lexer": "ipython3",
   "version": "3.9.13"
  }
 },
 "nbformat": 4,
 "nbformat_minor": 5
}
