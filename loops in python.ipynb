{
 "cells": [
  {
   "cell_type": "markdown",
   "id": "8f21f699",
   "metadata": {},
   "source": [
    "### write a program to print \"Hello python\" ten times."
   ]
  },
  {
   "cell_type": "code",
   "execution_count": 2,
   "id": "96f0a6b9",
   "metadata": {},
   "outputs": [
    {
     "name": "stdout",
     "output_type": "stream",
     "text": [
      "Hello Python\n",
      "Hello Python\n",
      "Hello Python\n",
      "Hello Python\n",
      "Hello Python\n",
      "Hello Python\n",
      "Hello Python\n",
      "Hello Python\n",
      "Hello Python\n",
      "Hello Python\n"
     ]
    }
   ],
   "source": [
    "i=1\n",
    "while i<=10:\n",
    "    print('Hello Python')\n",
    "    i+=1"
   ]
  },
  {
   "cell_type": "markdown",
   "id": "098983b7",
   "metadata": {},
   "source": [
    "### write a program to print number from 1 to 10."
   ]
  },
  {
   "cell_type": "code",
   "execution_count": 4,
   "id": "d9c8c0b9",
   "metadata": {},
   "outputs": [
    {
     "name": "stdout",
     "output_type": "stream",
     "text": [
      "1\n",
      "2\n",
      "3\n",
      "4\n",
      "5\n",
      "6\n",
      "7\n",
      "8\n",
      "9\n"
     ]
    }
   ],
   "source": [
    "for i in range(1,10):\n",
    "    print(i)"
   ]
  },
  {
   "cell_type": "markdown",
   "id": "c81d9eea",
   "metadata": {},
   "source": [
    "### write a program to print sum of first ten numbers."
   ]
  },
  {
   "cell_type": "code",
   "execution_count": 12,
   "id": "2de899f1",
   "metadata": {},
   "outputs": [
    {
     "name": "stdout",
     "output_type": "stream",
     "text": [
      "1\n",
      "3\n",
      "6\n",
      "10\n",
      "15\n",
      "21\n",
      "28\n",
      "36\n",
      "45\n",
      "55\n"
     ]
    }
   ],
   "source": [
    "i=1\n",
    "sum1=0\n",
    "while i<=10:\n",
    "    sum1=sum1+i\n",
    "    i=i+1\n",
    "    print(sum1)"
   ]
  },
  {
   "cell_type": "code",
   "execution_count": null,
   "id": "7086c980",
   "metadata": {},
   "outputs": [],
   "source": []
  },
  {
   "cell_type": "markdown",
   "id": "44824898",
   "metadata": {},
   "source": [
    "### write a program to print n number entered by the user"
   ]
  },
  {
   "cell_type": "code",
   "execution_count": 1,
   "id": "1c719295",
   "metadata": {},
   "outputs": [
    {
     "name": "stdout",
     "output_type": "stream",
     "text": [
      "enter a number 9\n",
      "1\n",
      "2\n",
      "3\n",
      "4\n",
      "5\n",
      "6\n",
      "7\n",
      "8\n",
      "9\n"
     ]
    }
   ],
   "source": [
    "\n",
    "n=int(input('enter a number '))\n",
    "for i in range(1,n+1):\n",
    "    print(i)\n",
    "    "
   ]
  },
  {
   "cell_type": "markdown",
   "id": "0306c4ae",
   "metadata": {},
   "source": [
    "### write a program to print odd numbers between 1 to 100"
   ]
  },
  {
   "cell_type": "code",
   "execution_count": 5,
   "id": "f4e791eb",
   "metadata": {},
   "outputs": [
    {
     "name": "stdout",
     "output_type": "stream",
     "text": [
      "1\n",
      "3\n",
      "5\n",
      "7\n",
      "9\n",
      "11\n",
      "13\n",
      "15\n",
      "17\n",
      "19\n",
      "21\n",
      "23\n",
      "25\n",
      "27\n",
      "29\n",
      "31\n",
      "33\n",
      "35\n",
      "37\n",
      "39\n",
      "41\n",
      "43\n",
      "45\n",
      "47\n",
      "49\n",
      "51\n",
      "53\n",
      "55\n",
      "57\n",
      "59\n",
      "61\n",
      "63\n",
      "65\n",
      "67\n",
      "69\n",
      "71\n",
      "73\n",
      "75\n",
      "77\n",
      "79\n",
      "81\n",
      "83\n",
      "85\n",
      "87\n",
      "89\n",
      "91\n",
      "93\n",
      "95\n",
      "97\n",
      "99\n"
     ]
    }
   ],
   "source": [
    "for i in range(1,100):\n",
    "    if i%2!=0:\n",
    "        print(i)"
   ]
  },
  {
   "cell_type": "code",
   "execution_count": null,
   "id": "ecec80a9",
   "metadata": {},
   "outputs": [],
   "source": [
    "\n",
    "    "
   ]
  },
  {
   "cell_type": "markdown",
   "id": "51daef49",
   "metadata": {},
   "source": [
    "### write a program to print even numbers between 1 to 100"
   ]
  },
  {
   "cell_type": "code",
   "execution_count": 6,
   "id": "9c90ade6",
   "metadata": {},
   "outputs": [
    {
     "name": "stdout",
     "output_type": "stream",
     "text": [
      "2\n",
      "4\n",
      "6\n",
      "8\n",
      "10\n",
      "12\n",
      "14\n",
      "16\n",
      "18\n",
      "20\n",
      "22\n",
      "24\n",
      "26\n",
      "28\n",
      "30\n",
      "32\n",
      "34\n",
      "36\n",
      "38\n",
      "40\n",
      "42\n",
      "44\n",
      "46\n",
      "48\n",
      "50\n",
      "52\n",
      "54\n",
      "56\n",
      "58\n",
      "60\n",
      "62\n",
      "64\n",
      "66\n",
      "68\n",
      "70\n",
      "72\n",
      "74\n",
      "76\n",
      "78\n",
      "80\n",
      "82\n",
      "84\n",
      "86\n",
      "88\n",
      "90\n",
      "92\n",
      "94\n",
      "96\n",
      "98\n"
     ]
    }
   ],
   "source": [
    "for i in range(1,100):\n",
    "    if i%2==0:\n",
    "        print(i)"
   ]
  },
  {
   "cell_type": "markdown",
   "id": "6767126d",
   "metadata": {},
   "source": [
    "### write a program to print table of a number"
   ]
  },
  {
   "cell_type": "code",
   "execution_count": 11,
   "id": "a8c07400",
   "metadata": {},
   "outputs": [
    {
     "name": "stdout",
     "output_type": "stream",
     "text": [
      "5 * 1 = 5\n",
      "5 * 2 = 10\n",
      "5 * 3 = 15\n",
      "5 * 4 = 20\n",
      "5 * 5 = 25\n",
      "5 * 6 = 30\n",
      "5 * 7 = 35\n",
      "5 * 8 = 40\n",
      "5 * 9 = 45\n",
      "5 * 10 = 50\n"
     ]
    }
   ],
   "source": [
    "p=5\n",
    "\n",
    "for i in range(1,11):\n",
    "    print(p, \"*\", i, \"=\", p*i)\n",
    "    \n",
    "  "
   ]
  },
  {
   "cell_type": "markdown",
   "id": "8a6e67d9",
   "metadata": {},
   "source": [
    "### write a program to calculate the factorial of a number"
   ]
  },
  {
   "cell_type": "code",
   "execution_count": 6,
   "id": "2e12a699",
   "metadata": {},
   "outputs": [
    {
     "name": "stdout",
     "output_type": "stream",
     "text": [
      "1\n",
      "2\n",
      "6\n",
      "24\n",
      "120\n"
     ]
    }
   ],
   "source": [
    "num=5\n",
    "fac=1\n",
    "for i in range(1,num+1):\n",
    "    fac*=i\n",
    "\n",
    "    print(fac)\n"
   ]
  },
  {
   "cell_type": "markdown",
   "id": "f10dd142",
   "metadata": {},
   "source": [
    "### write a program to get reverse of a number"
   ]
  },
  {
   "cell_type": "code",
   "execution_count": 5,
   "id": "20b2b04b",
   "metadata": {},
   "outputs": [
    {
     "name": "stdout",
     "output_type": "stream",
     "text": [
      "Enter number : 1234\n",
      "4321\n"
     ]
    }
   ],
   "source": [
    "\n",
    "num=int(input(\"Enter number : \")) \n",
    "rev=0\n",
    "while num!=0:\n",
    "    digit=num%10\n",
    "    rev=rev*10+digit\n",
    "    num//=10\n",
    "print(str(rev))"
   ]
  },
  {
   "cell_type": "markdown",
   "id": "2895ca87",
   "metadata": {},
   "source": [
    "### write a program to find factors of a number"
   ]
  },
  {
   "cell_type": "code",
   "execution_count": 3,
   "id": "6f1f236a",
   "metadata": {},
   "outputs": [
    {
     "name": "stdout",
     "output_type": "stream",
     "text": [
      "enter the number: 10\n",
      "The factors are \n",
      "1\n",
      "2\n",
      "5\n",
      "10\n"
     ]
    }
   ],
   "source": [
    "num=int(input(\"enter the number: \"))\n",
    "print('The factors are ')\n",
    "for i in range(1,num+1):\n",
    "    if num%i==0:\n",
    "        print(i)\n"
   ]
  },
  {
   "cell_type": "markdown",
   "id": "ad915b76",
   "metadata": {},
   "source": [
    "### write a program to check wheather a given number is a palindrome or not"
   ]
  },
  {
   "cell_type": "code",
   "execution_count": 10,
   "id": "962ca244",
   "metadata": {},
   "outputs": [
    {
     "name": "stdout",
     "output_type": "stream",
     "text": [
      "enter the string animal\n",
      "reversed string  a\n",
      "reversed string  na\n",
      "reversed string  ina\n",
      "reversed string  mina\n",
      "reversed string  amina\n",
      "reversed string  lamina\n",
      "the string is not a palindrome \n"
     ]
    }
   ],
   "source": [
    "string=input('enter the string ')\n",
    "revstr=\"\"\n",
    "for i in string:\n",
    "    revstr=i+revstr\n",
    "    print('reversed string ',revstr)\n",
    "if string==revstr:\n",
    "    print(\"the string is a palindrome\")\n",
    "else:\n",
    "    print('the string is not a palindrome ')"
   ]
  },
  {
   "cell_type": "code",
   "execution_count": null,
   "id": "34fbd31f",
   "metadata": {},
   "outputs": [],
   "source": [
    "### write a program to check whether a given number is a prime or not"
   ]
  },
  {
   "cell_type": "code",
   "execution_count": null,
   "id": "9fe5a898",
   "metadata": {},
   "outputs": [],
   "source": [
    "num=int(input())\n",
    "if num==1:\n",
    "    print(num, \"is not a prime number\")\n",
    "    for i in range(2,num):\n",
    "        if num%i==0:\n",
    "            print(num, 'is not a prime number')\n",
    "else:\n",
    "    print(num,'is a prime mumber')"
   ]
  },
  {
   "cell_type": "markdown",
   "id": "764da5e8",
   "metadata": {},
   "source": [
    "### write a program to print prime number between 1 to 100"
   ]
  },
  {
   "cell_type": "code",
   "execution_count": 4,
   "id": "8ac1ab7c",
   "metadata": {},
   "outputs": [
    {
     "name": "stdout",
     "output_type": "stream",
     "text": [
      " 2\n",
      " 3\n",
      " 5\n",
      " 7\n",
      " 11\n",
      " 13\n",
      " 17\n",
      " 19\n",
      " 23\n",
      " 29\n",
      " 31\n",
      " 37\n",
      " 41\n",
      " 43\n",
      " 47\n",
      " 53\n",
      " 59\n",
      " 61\n",
      " 67\n",
      " 71\n",
      " 73\n",
      " 79\n",
      " 83\n",
      " 89\n",
      " 97\n"
     ]
    }
   ],
   "source": [
    "for num in range (1, 101):\n",
    "    count = 0\n",
    "    for i in range(2, (num//2 + 1)):\n",
    "        if(num % i == 0):\n",
    "            count = count + 1\n",
    "            break\n",
    "\n",
    "    if (count == 0 and num != 1):\n",
    "        print(\" %d\" %num)"
   ]
  },
  {
   "cell_type": "markdown",
   "id": "6cc819c7",
   "metadata": {},
   "source": [
    " ### write a program to print the cubes of all numbers from 1 to a given number"
   ]
  },
  {
   "cell_type": "code",
   "execution_count": 28,
   "id": "51969fe7",
   "metadata": {},
   "outputs": [
    {
     "name": "stdout",
     "output_type": "stream",
     "text": [
      "5\n",
      "1 = 1\n",
      "2 = 8\n",
      "3 = 27\n",
      "4 = 64\n",
      "5 = 125\n"
     ]
    }
   ],
   "source": [
    "num=int(input())\n",
    "for i in range(1,num+1):\n",
    "     cube=i*i*i\n",
    "    print(i,\"=\",cube)\n",
    "    \n",
    "    "
   ]
  },
  {
   "cell_type": "markdown",
   "id": "548674e2",
   "metadata": {},
   "source": [
    "### write a program to print the following pattern"
   ]
  },
  {
   "cell_type": "code",
   "execution_count": 1,
   "id": "0791867f",
   "metadata": {},
   "outputs": [
    {
     "name": "stdout",
     "output_type": "stream",
     "text": [
      "A\n",
      "AB\n",
      "ABC\n",
      "ABCD\n",
      "ABCDE\n"
     ]
    }
   ],
   "source": [
    "for i in range(5):\n",
    "    for j in range(i+1):\n",
    "        print(chr(65+j),end=\"\")\n",
    "    print()"
   ]
  },
  {
   "cell_type": "code",
   "execution_count": 6,
   "id": "0e2f8022",
   "metadata": {},
   "outputs": [
    {
     "name": "stdout",
     "output_type": "stream",
     "text": [
      "A\n",
      "BB\n",
      "CCC\n",
      "DDDD\n",
      "EEEEE\n"
     ]
    }
   ],
   "source": [
    "for i in range(5):\n",
    "    for j in range(i+1):\n",
    "        print(chr(65+i),end=\"\")\n",
    "    print()"
   ]
  },
  {
   "cell_type": "code",
   "execution_count": 9,
   "id": "adee8721",
   "metadata": {},
   "outputs": [
    {
     "name": "stdout",
     "output_type": "stream",
     "text": [
      "ABCDE\n",
      "ABCD\n",
      "ABC\n",
      "AB\n",
      "A\n"
     ]
    }
   ],
   "source": [
    "for i in range(5):\n",
    "    for j in range(5-i):\n",
    "        print(chr(65+j),end=\"\")\n",
    "    print()"
   ]
  },
  {
   "cell_type": "code",
   "execution_count": 29,
   "id": "72e263c6",
   "metadata": {},
   "outputs": [],
   "source": [
    "#write a program to print the following star pattern using a loop"
   ]
  },
  {
   "cell_type": "code",
   "execution_count": 33,
   "id": "468687d8",
   "metadata": {},
   "outputs": [
    {
     "name": "stdout",
     "output_type": "stream",
     "text": [
      "*\n",
      "**\n",
      "***\n",
      "****\n",
      "*****\n"
     ]
    }
   ],
   "source": [
    "for i in range(5):\n",
    "    for j in range(i+1):\n",
    "        print(\"*\",end=\"\")\n",
    "    print()\n"
   ]
  },
  {
   "cell_type": "code",
   "execution_count": 34,
   "id": "28d1f3bd",
   "metadata": {},
   "outputs": [
    {
     "name": "stdout",
     "output_type": "stream",
     "text": [
      "*****\n",
      "*****\n",
      "*****\n",
      "*****\n",
      "*****\n"
     ]
    }
   ],
   "source": [
    "for i in range(5):\n",
    "    for j in range(5):\n",
    "        print(\"*\",end=\"\")\n",
    "    print()"
   ]
  },
  {
   "cell_type": "code",
   "execution_count": 36,
   "id": "ff89cbbb",
   "metadata": {},
   "outputs": [
    {
     "name": "stdout",
     "output_type": "stream",
     "text": [
      "*****\n",
      "****\n",
      "***\n",
      "**\n",
      "*\n"
     ]
    }
   ],
   "source": [
    "for i in range(5):\n",
    "    for j in range(5-i):\n",
    "        print(\"*\",end= \"\")\n",
    "    print()"
   ]
  },
  {
   "cell_type": "code",
   "execution_count": null,
   "id": "f7e725c0",
   "metadata": {},
   "outputs": [],
   "source": []
  },
  {
   "cell_type": "code",
   "execution_count": null,
   "id": "175726f1",
   "metadata": {},
   "outputs": [],
   "source": []
  }
 ],
 "metadata": {
  "kernelspec": {
   "display_name": "Python 3 (ipykernel)",
   "language": "python",
   "name": "python3"
  },
  "language_info": {
   "codemirror_mode": {
    "name": "ipython",
    "version": 3
   },
   "file_extension": ".py",
   "mimetype": "text/x-python",
   "name": "python",
   "nbconvert_exporter": "python",
   "pygments_lexer": "ipython3",
   "version": "3.9.13"
  }
 },
 "nbformat": 4,
 "nbformat_minor": 5
}
