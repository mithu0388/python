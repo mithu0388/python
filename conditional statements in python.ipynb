{
 "cells": [
  {
   "cell_type": "markdown",
   "id": "bdf4283c",
   "metadata": {},
   "source": [
    "### write a program to check whether a given number is even or odd"
   ]
  },
  {
   "cell_type": "code",
   "execution_count": 2,
   "id": "24245f13",
   "metadata": {},
   "outputs": [
    {
     "name": "stdout",
     "output_type": "stream",
     "text": [
      "enter a number 50\n",
      "even\n"
     ]
    }
   ],
   "source": [
    "num1=int(input('enter a number '))\n",
    "if num1 % 2 !=0:\n",
    "    print('odd')\n",
    "else:\n",
    "    print('even')"
   ]
  },
  {
   "cell_type": "markdown",
   "id": "a592c0d2",
   "metadata": {},
   "source": [
    "### write a program to check whether an alphabet is vowel or consonant"
   ]
  },
  {
   "cell_type": "code",
   "execution_count": 5,
   "id": "f762c0b8",
   "metadata": {},
   "outputs": [
    {
     "name": "stdout",
     "output_type": "stream",
     "text": [
      "enter an alphabet r\n",
      "alphabet is consonant\n"
     ]
    }
   ],
   "source": [
    "alphabet=(input('enter an alphabet '))\n",
    "if alphabet=='a' or alphabet=='e' or alphabet=='i' or alphabet=='o' or alphabet=='u':\n",
    "    print('alphabet is vowel')\n",
    "else:\n",
    "    print('alphabet is consonant')"
   ]
  },
  {
   "cell_type": "markdown",
   "id": "54e1222a",
   "metadata": {},
   "source": [
    "### write a program to check whether a person is eligible to vote or not"
   ]
  },
  {
   "cell_type": "code",
   "execution_count": 6,
   "id": "adca5532",
   "metadata": {},
   "outputs": [
    {
     "name": "stdout",
     "output_type": "stream",
     "text": [
      "enter your age 34\n",
      "you are eligible to vote\n"
     ]
    }
   ],
   "source": [
    "age=int(input('enter your age '))\n",
    "if age>=18:\n",
    "    print('you are eligible to vote')\n",
    "else: \n",
    "    print('ypu are not eligible to vote')"
   ]
  },
  {
   "cell_type": "markdown",
   "id": "b96924e7",
   "metadata": {},
   "source": [
    "### write a program to check whether a given number is positive,negative or zero"
   ]
  },
  {
   "cell_type": "code",
   "execution_count": 9,
   "id": "23001a8d",
   "metadata": {},
   "outputs": [
    {
     "name": "stdout",
     "output_type": "stream",
     "text": [
      "enter the number -7\n",
      "entered number is a negative number\n"
     ]
    }
   ],
   "source": [
    "num1=int(input('enter the number '))\n",
    "if num1>1:\n",
    "    print('entered number is positive')\n",
    "elif num1==0:\n",
    "    print('entered number is neither postive nor negative')\n",
    "else:\n",
    "    print('entered number is a negative number')"
   ]
  },
  {
   "cell_type": "markdown",
   "id": "314100bc",
   "metadata": {},
   "source": [
    "### write a program to check whether a given year is leap year or not"
   ]
  },
  {
   "cell_type": "code",
   "execution_count": 10,
   "id": "a24b5811",
   "metadata": {},
   "outputs": [
    {
     "name": "stdout",
     "output_type": "stream",
     "text": [
      "enter the year: 2016\n",
      "2016 is a leap year\n"
     ]
    }
   ],
   "source": [
    "year=int(input('enter the year: '))\n",
    "if year%4==0 and year%100!=0:\n",
    "    print(year, 'is a leap year')\n",
    "else:\n",
    "    print(year, 'is not a leap year')"
   ]
  },
  {
   "cell_type": "markdown",
   "id": "1c15a1bd",
   "metadata": {},
   "source": [
    "### write a program to check a triangle is equilateral, isosceles or scalene"
   ]
  },
  {
   "cell_type": "code",
   "execution_count": 13,
   "id": "5269b2fc",
   "metadata": {},
   "outputs": [
    {
     "name": "stdout",
     "output_type": "stream",
     "text": [
      "enter the first side: 7\n",
      "enter the second side: 8\n",
      "enter the third side: 9\n",
      "it is a scalene triangle\n"
     ]
    }
   ],
   "source": [
    "a=int(input('enter the first side: '))\n",
    "b=int(input('enter the second side: '))\n",
    "c=int(input('enter the third side: '))\n",
    "if a==b==c:\n",
    "    print(\"it is a equilateral triangle\")\n",
    "elif a==b or b==c or a==c:\n",
    "    print(\"it is a isosceles triangle\")\n",
    "else:\n",
    "    print(\"it is a scalene triangle\")"
   ]
  },
  {
   "cell_type": "markdown",
   "id": "bdb7ae23",
   "metadata": {},
   "source": [
    "### write a program to check whether after selling a product its profit or loss"
   ]
  },
  {
   "cell_type": "code",
   "execution_count": 2,
   "id": "28a393b0",
   "metadata": {},
   "outputs": [
    {
     "name": "stdout",
     "output_type": "stream",
     "text": [
      "enter the selling price50000\n",
      "profit earned\n"
     ]
    }
   ],
   "source": [
    "cost_price=10000\n",
    "selling_price=int(input('enter the selling price'))\n",
    "if selling_price>cost_price:\n",
    "    print(\"profit earned\")\n",
    "elif selling_price<cost_price:\n",
    "        print('loss')\n",
    "else:\n",
    "    print('no profit or no loss')"
   ]
  },
  {
   "cell_type": "markdown",
   "id": "48844a96",
   "metadata": {},
   "source": [
    "### write a program to enter two numbers and print the greatest number"
   ]
  },
  {
   "cell_type": "code",
   "execution_count": 4,
   "id": "b5e4ea88",
   "metadata": {},
   "outputs": [
    {
     "name": "stdout",
     "output_type": "stream",
     "text": [
      "enter the first number24\n",
      "enter the second number22\n",
      "24 is the greatest number\n"
     ]
    }
   ],
   "source": [
    "num1=int(input(\"enter the first number\"))\n",
    "num2=int(input(\"enter the second number\"))\n",
    "if num1>num2:\n",
    "    print(num1, \"is the greatest number\")\n",
    "else:\n",
    "    print(num2, \"is the greatest number\")"
   ]
  },
  {
   "cell_type": "markdown",
   "id": "35c102f6",
   "metadata": {},
   "source": [
    "### write a program to enter two numbers and print the smallest number"
   ]
  },
  {
   "cell_type": "code",
   "execution_count": 6,
   "id": "14d6dd8f",
   "metadata": {},
   "outputs": [
    {
     "name": "stdout",
     "output_type": "stream",
     "text": [
      "enter the first number46\n",
      "enter the second number33\n",
      "33 is the smallest number\n"
     ]
    }
   ],
   "source": [
    "num1=int(input(\"enter the first number\"))\n",
    "num2=int(input(\"enter the second number\"))\n",
    "if num1<num2:\n",
    "    print(num1, \"is the smallest number\")\n",
    "else:\n",
    "    print(num2, \"is the smallest number\")"
   ]
  },
  {
   "cell_type": "markdown",
   "id": "d014146b",
   "metadata": {},
   "source": [
    "### write a program to calculate the roots of quadratic equation"
   ]
  },
  {
   "cell_type": "code",
   "execution_count": 9,
   "id": "e484b2e4",
   "metadata": {},
   "outputs": [
    {
     "name": "stdout",
     "output_type": "stream",
     "text": [
      "enter a number: 1\n",
      "enter anumber: -3\n",
      "enter a number: 4\n",
      "-7 has no real roots\n"
     ]
    }
   ],
   "source": [
    "a=int(input('enter a number: '))\n",
    "b=int(input('enter anumber: '))\n",
    "c=int(input('enter a number: '))\n",
    "discriminant=(b**2)-4*a*c\n",
    "if discriminant >0:\n",
    "    print(discriminant,\"has two distinct real roots\")\n",
    "elif discriminant==0:\n",
    "    print(discriminant, \"has two equal real roots\")\n",
    "else:\n",
    "    print(discriminant, \"has no real roots\")"
   ]
  },
  {
   "cell_type": "markdown",
   "id": "f095b01e",
   "metadata": {},
   "source": [
    "### write a program to enter a number between(1-7) and print the respective day in a week"
   ]
  },
  {
   "cell_type": "code",
   "execution_count": 11,
   "id": "9f8727e7",
   "metadata": {},
   "outputs": [
    {
     "name": "stdout",
     "output_type": "stream",
     "text": [
      "enter the day5\n",
      "thursday\n"
     ]
    }
   ],
   "source": [
    "Day=int(input(\"enter the day\"))\n",
    "if(Day==1):\n",
    "    print(\"sunday\")\n",
    "elif(Day==2):\n",
    "    print(\"monday\")\n",
    "elif(Day==3):\n",
    "    print(\"tuesday\")\n",
    "elif(Day==4):\n",
    "    print(\"wednesday\")\n",
    "elif(Day==5):\n",
    "    print(\"thursday\")\n",
    "elif(Day==6):\n",
    "    print(\"friday\")\n",
    "elif(Day==7):\n",
    "    print(\"saturday\")\n",
    "else:\n",
    "    print(\"sorry\")"
   ]
  },
  {
   "cell_type": "markdown",
   "id": "66800cee",
   "metadata": {},
   "source": [
    "### write a program to enter a number between(1-12) and print the respective month"
   ]
  },
  {
   "cell_type": "code",
   "execution_count": 12,
   "id": "9dc6b624",
   "metadata": {},
   "outputs": [
    {
     "name": "stdout",
     "output_type": "stream",
     "text": [
      "enter the month6\n",
      "june\n"
     ]
    }
   ],
   "source": [
    "month=int(input(\"enter the month\"))\n",
    "if(month==1):\n",
    "    print(\"january\")\n",
    "elif(month==2):\n",
    "    print(\"febuary\")\n",
    "elif(month==3):\n",
    "    print(\"march\")\n",
    "elif(month==4):\n",
    "    print(\"april\")\n",
    "elif(month==5):\n",
    "    print(\"may\")\n",
    "elif(month==6):\n",
    "    print(\"june\")\n",
    "elif(month==7):\n",
    "    print(\"july\")\n",
    "elif(month==8):\n",
    "    print(\"august\")\n",
    "elif(month==9):\n",
    "    print(\"spetember\")\n",
    "elif(month==10):\n",
    "    print(\"october\")\n",
    "elif(month==11):\n",
    "    print(\"november\")\n",
    "elif(month==12):\n",
    "    print(\"december\")\n",
    "else:\n",
    "    print(\"sorry\")\n"
   ]
  },
  {
   "cell_type": "markdown",
   "id": "e25eae34",
   "metadata": {},
   "source": [
    "### write a program to convert temperature to celsius to fahrenheit"
   ]
  },
  {
   "cell_type": "code",
   "execution_count": 3,
   "id": "635b4756",
   "metadata": {},
   "outputs": [
    {
     "name": "stdout",
     "output_type": "stream",
     "text": [
      "enter the temperature 30\n",
      "enter the scale c\n",
      "here the temperature in fahrenheit 86.0\n"
     ]
    }
   ],
   "source": [
    "temperature=float(input('enter the temperature '))\n",
    "scale=input('enter the scale ')\n",
    "if scale=='c':\n",
    "    print(\"here the temperature in fahrenheit\",(temperature*1.8)+32)\n",
    "elif scale=='f':\n",
    "    print(\"here the temperature in celsius\",(temperature-32)*5/9)"
   ]
  },
  {
   "cell_type": "markdown",
   "id": "6b6c017e",
   "metadata": {},
   "source": [
    "### A company decided to give bonus of 5% to employee if his year of service is more than 5 years. Ask user for their salary  and year of service and print the net bonus amount"
   ]
  },
  {
   "cell_type": "code",
   "execution_count": 2,
   "id": "de99b243",
   "metadata": {},
   "outputs": [
    {
     "name": "stdout",
     "output_type": "stream",
     "text": [
      "enter your salary: 7000\n",
      "enter your year of service: 3\n",
      "sorry you will not get any bonus\n"
     ]
    }
   ],
   "source": [
    "salary =int(input('enter your salary: '))\n",
    "year=int(input('enter your year of service: '))\n",
    "if year>5:\n",
    "    print('you will get bonus of ',salary*0.5)\n",
    "else:\n",
    "    print('sorry you will not get any bonus')"
   ]
  },
  {
   "cell_type": "markdown",
   "id": "635eb7fa",
   "metadata": {},
   "source": [
    "### write a program to input of length and breadth of rectangle from user and check if it is square or not"
   ]
  },
  {
   "cell_type": "code",
   "execution_count": 3,
   "id": "edc92d72",
   "metadata": {},
   "outputs": [
    {
     "name": "stdout",
     "output_type": "stream",
     "text": [
      "enter the length 7\n",
      "enter the breadth 7\n",
      "This rectangle is a square\n"
     ]
    }
   ],
   "source": [
    "length=int(input('enter the length '))\n",
    "breadth=int(input('enter the breadth '))\n",
    "if length==breadth:\n",
    "    print('This rectangle is a square')\n",
    "else:\n",
    "    print('This is a rectangle not a square')"
   ]
  },
  {
   "cell_type": "markdown",
   "id": "e68719a5",
   "metadata": {},
   "source": [
    "### Take input of ages of 3 people by user and determine oldest and youngest among them"
   ]
  },
  {
   "cell_type": "code",
   "execution_count": 4,
   "id": "846ab571",
   "metadata": {},
   "outputs": [
    {
     "name": "stdout",
     "output_type": "stream",
     "text": [
      "Enter age of user 1 : 56\n",
      "Enter age of user 2 : 67\n",
      "Enter age of user 3 : 89\n",
      "user 3 is oldest out of three users\n",
      "user 1 is youngest out of three users\n"
     ]
    }
   ],
   "source": [
    "u1 = int(input(\"Enter age of user 1 : \"))\n",
    "u2 = int(input(\"Enter age of user 2 : \"))\n",
    "u3 = int(input(\"Enter age of user 3 : \"))\n",
    "if u1 > u2 and u1 > u3:\n",
    "    print(\"user 1 is oldest out of three users\")\n",
    "elif u2 > u1 and u2 > u3:\n",
    "    print(\"user 2 is oldest out of three users\")\n",
    "elif u3 > u1 and u3 > u2:\n",
    "    print(\"user 3 is oldest out of three users\")\n",
    "if u1 < u2 and u1 < u3:\n",
    "    print(\"user 1 is youngest out of three users\")\n",
    "elif u2 < u1 and u2 < u3:\n",
    "    print(\"user 2 is youngest out of three users\")\n",
    "elif u3 < u1 and u3 < u2:\n",
    "    print(\"user 3 is youngest out of three users\")"
   ]
  },
  {
   "cell_type": "markdown",
   "id": "b6c370f5",
   "metadata": {},
   "source": [
    "### A school has following rules for grading system:\n",
    "##### a. below 25-F\n",
    "##### b. 25 to 45 - E\n",
    "##### c. 45 to 50 -D\n",
    "##### d. 50 to 60 -C\n",
    "##### e. 60 to 80 -B\n",
    "##### f. Above 80 -A\n",
    "### Ask user to enter marks and print corresponding grade"
   ]
  },
  {
   "cell_type": "code",
   "execution_count": 5,
   "id": "71a60c3a",
   "metadata": {},
   "outputs": [
    {
     "name": "stdout",
     "output_type": "stream",
     "text": [
      "Enter your mark: 56\n",
      "your grade is C\n"
     ]
    }
   ],
   "source": [
    "mark=float(input(\"Enter your mark: \"))\n",
    "if mark<25:\n",
    "    print(\"your grade is F\")\n",
    "elif mark>=25 and mark<45:\n",
    "    print(\"your grade is E\")\n",
    "elif mark>=45 and mark<50:\n",
    "    print(\"your grade is D\")\n",
    "elif mark>=50 and mark<60:\n",
    "    print(\"your grade is C\")\n",
    "elif mark>=60 and mark<80:\n",
    "    print(\"your grade is B\") \n",
    "elif mark>80:\n",
    "    print(\"your grade is A\")\n",
    "else:\n",
    "    print()"
   ]
  },
  {
   "cell_type": "code",
   "execution_count": null,
   "id": "3685b89d",
   "metadata": {},
   "outputs": [],
   "source": []
  }
 ],
 "metadata": {
  "kernelspec": {
   "display_name": "Python 3 (ipykernel)",
   "language": "python",
   "name": "python3"
  },
  "language_info": {
   "codemirror_mode": {
    "name": "ipython",
    "version": 3
   },
   "file_extension": ".py",
   "mimetype": "text/x-python",
   "name": "python",
   "nbconvert_exporter": "python",
   "pygments_lexer": "ipython3",
   "version": "3.9.13"
  }
 },
 "nbformat": 4,
 "nbformat_minor": 5
}
